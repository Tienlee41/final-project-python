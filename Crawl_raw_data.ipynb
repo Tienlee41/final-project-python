{
 "cells": [
  {
   "cell_type": "code",
   "execution_count": 3,
   "metadata": {},
   "outputs": [
    {
     "name": "stderr",
     "output_type": "stream",
     "text": [
      "c:\\Users\\NAME\\AppData\\Local\\Programs\\Python\\Python310\\lib\\site-packages\\tqdm\\auto.py:22: TqdmWarning: IProgress not found. Please update jupyter and ipywidgets. See https://ipywidgets.readthedocs.io/en/stable/user_install.html\n",
      "  from .autonotebook import tqdm as notebook_tqdm\n"
     ]
    }
   ],
   "source": [
    "from facebook_scraper import get_posts\n",
    "import pandas as pd\n",
    "import numpy as np"
   ]
  },
  {
   "cell_type": "markdown",
   "metadata": {},
   "source": [
    "## Crawl the raw data (posts facebook) "
   ]
  },
  {
   "cell_type": "markdown",
   "metadata": {},
   "source": [
    "### Crawling 100 posts each page from 3 pages: [Starbucks Viet nam](https://www.facebook.com/starbucksvietnam), [Highlands Coffee](https://www.facebook.com/highlandscoffeevietnam),[The Coffee House](https://www.facebook.com/The.Coffee.House.2014)"
   ]
  },
  {
   "cell_type": "markdown",
   "metadata": {},
   "source": [
    "### Define variables"
   ]
  },
  {
   "cell_type": "markdown",
   "metadata": {},
   "source": [
    "- Three FANPAGE_LINKS of three Facebook pages:\n",
    "    - FANPAGE_LINK_1: The link to the fanpage [Starbucks Viet nam](https://www.facebook.com/starbucksvietnam)\n",
    "    - FANPAGE_LINK_2: The link to the fanpage  [Highlands Coffee](https://www.facebook.com/highlandscoffeevietnam)\n",
    "    - FANPAGE_LINK_3: The link to the fanpage [The Coffee House](https://www.facebook.com/The.Coffee.House.2014)\n",
    "- COOKIE_PATH: The path of cookie file that we will be using to authenticate with Facebook. This cookie file can be obtained by logging into Facebook and copying the cookie from the browser.\n",
    "- FOLDER NAME : The name of folder that we will be saving the raw data to.\n"
   ]
  },
  {
   "cell_type": "code",
   "execution_count": 8,
   "metadata": {},
   "outputs": [],
   "source": [
    "FANPAGE_LINK_1 = \"starbucksvietnam\"\n",
    "FANPAGE_LINK_2 = \"highlandscoffeevietnam\"\n",
    "FANPAGE_LINK_3 = \"The.Coffee.House.2014\"\n",
    "FOLDER_PATH = \"Data/Raw_data/\"\n",
    "COOKIE_PATH = \"./cookies.txt\" \n",
    "\n",
    "PAGES_NUMBER = 10"
   ]
  },
  {
   "cell_type": "code",
   "execution_count": 10,
   "metadata": {},
   "outputs": [],
   "source": [
    "def get_posts_list(FANPAGE_LINK) :\n",
    "    post_list = []\n",
    "    for post in get_posts(FANPAGE_LINK,\n",
    "                        options={\"comments\": True, \"reactions\": True, \"allow_extra_requests\": True},\n",
    "                        extra_info=True, pages=PAGES_NUMBER, cookies=COOKIE_PATH):\n",
    "        post_list.append(post)\n",
    "    return post_list\n",
    "starbucks_posts_list = get_posts_list(FANPAGE_LINK_1)\n",
    "highlands_posts_list = get_posts_list(FANPAGE_LINK_2)\n",
    "the_coffee_house_post_list = get_posts_list(FANPAGE_LINK_3)"
   ]
  },
  {
   "cell_type": "markdown",
   "metadata": {},
   "source": [
    "## Convert list of dicts to df. Save df to a csv file"
   ]
  },
  {
   "cell_type": "markdown",
   "metadata": {},
   "source": [
    "Converting the list of dictionaries to a pandas dataframe and saving the dataframe to a csv file "
   ]
  },
  {
   "cell_type": "code",
   "execution_count": 11,
   "metadata": {},
   "outputs": [
    {
     "name": "stdout",
     "output_type": "stream",
     "text": [
      "Data/Raw_data/starbucksvietnam_raw_data.csv\n",
      "Data/Raw_data/highlandscoffeevietnam_raw_data.csv\n",
      "Data/Raw_data/The.Coffee.House.2014_raw_data.csv\n"
     ]
    }
   ],
   "source": [
    "def convert_to_df(post_list,FANPAGE_LINK):\n",
    "    # Initialize dataframe to scrape Facebook post\n",
    "    post_df_full = pd.DataFrame(columns=post_list[0].keys(), index=range(len(post_list)), data=post_list)\n",
    "\n",
    "    # To df\n",
    "    path=FOLDER_PATH + FANPAGE_LINK + \"_raw_data\" + \".csv\"\n",
    "    post_df_full.to_csv(path, index=False)\n",
    "    print(path)\n",
    "convert_to_df(starbucks_posts_list,FANPAGE_LINK_1)\n",
    "convert_to_df(highlands_posts_list,FANPAGE_LINK_2)\n",
    "convert_to_df(the_coffee_house_post_list,FANPAGE_LINK_3)"
   ]
  }
 ],
 "metadata": {
  "kernelspec": {
   "display_name": "Python 3",
   "language": "python",
   "name": "python3"
  },
  "language_info": {
   "codemirror_mode": {
    "name": "ipython",
    "version": 3
   },
   "file_extension": ".py",
   "mimetype": "text/x-python",
   "name": "python",
   "nbconvert_exporter": "python",
   "pygments_lexer": "ipython3",
   "version": "3.10.6"
  }
 },
 "nbformat": 4,
 "nbformat_minor": 2
}
